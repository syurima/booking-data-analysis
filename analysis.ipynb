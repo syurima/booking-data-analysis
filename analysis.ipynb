{
 "cells": [
  {
   "cell_type": "code",
   "execution_count": 1,
   "metadata": {},
   "outputs": [],
   "source": [
    "import os\n",
    "import pandas as pd"
   ]
  },
  {
   "cell_type": "markdown",
   "metadata": {},
   "source": [
    "first we load all gathered data"
   ]
  },
  {
   "cell_type": "code",
   "execution_count": 13,
   "metadata": {},
   "outputs": [
    {
     "name": "stdout",
     "output_type": "stream",
     "text": [
      "number of records: 35440\n"
     ]
    }
   ],
   "source": [
    "data_dir = 'data'\n",
    "\n",
    "def load_all(dir):\n",
    "    dataframes = []\n",
    "    for filename in os.listdir(dir):\n",
    "        f = os.path.join(dir, filename)\n",
    "        # checking if it is a file\n",
    "        if os.path.isfile(f):\n",
    "            try: \n",
    "                data = (pd.read_csv(f))\n",
    "                dataframes.append(data)\n",
    "            except: print(f'couldn\\'t read file {f}')\n",
    "    return pd.concat(dataframes, ignore_index=True)\n",
    "\n",
    "data = load_all(data_dir)\n",
    "print(f'number of records: {len(data)}')\n",
    "#print(df.sample(1))"
   ]
  },
  {
   "cell_type": "markdown",
   "metadata": {},
   "source": [
    "oczyszczenie danych:"
   ]
  },
  {
   "cell_type": "code",
   "execution_count": null,
   "metadata": {},
   "outputs": [],
   "source": []
  }
 ],
 "metadata": {
  "kernelspec": {
   "display_name": "Python 3",
   "language": "python",
   "name": "python3"
  },
  "language_info": {
   "codemirror_mode": {
    "name": "ipython",
    "version": 3
   },
   "file_extension": ".py",
   "mimetype": "text/x-python",
   "name": "python",
   "nbconvert_exporter": "python",
   "pygments_lexer": "ipython3",
   "version": "3.12.2"
  }
 },
 "nbformat": 4,
 "nbformat_minor": 2
}
